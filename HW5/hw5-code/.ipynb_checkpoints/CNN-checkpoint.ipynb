{
 "cells": [
  {
   "cell_type": "markdown",
   "metadata": {},
   "source": [
    "# Convolutional neural networks\n",
    "\n",
    "In this notebook, we'll put together our convolutional layers to implement a 3-layer CNN.  Then, we'll ask you to implement a CNN that can achieve > 65% validation error on CIFAR-10.\n",
    "\n",
    "If you have not completed the Spatial BatchNorm Notebook, please see the following description from that notebook:\n",
    "\n",
    "Please copy and paste your prior implemented code from HW #4 to start this assignment.  If you did not correctly implement the layers in HW #4, you may collaborate with a classmate to use their layer implementations from HW #4.  You may also visit TA or Prof OH to correct your implementation.  \n",
    "\n",
    "You'll want to copy and paste from HW #4:\n",
    "    - layers.py for your FC network layers, as well as batchnorm and dropout.\n",
    "    - layer_utils.py for your combined FC network layers.\n",
    "    - optim.py for your optimizers.\n",
    "\n",
    "Be sure to place these in the `nndl/` directory so they're imported correctly.  Note, as announced in class, we will not be releasing our solutions."
   ]
  },
  {
   "cell_type": "code",
   "execution_count": 2,
   "metadata": {},
   "outputs": [
    {
     "name": "stdout",
     "output_type": "stream",
     "text": [
      "The autoreload extension is already loaded. To reload it, use:\n",
      "  %reload_ext autoreload\n"
     ]
    }
   ],
   "source": [
    "# As usual, a bit of setup\n",
    "\n",
    "import numpy as np\n",
    "import matplotlib.pyplot as plt\n",
    "from nndl.cnn import *\n",
    "from utils.data_utils import get_CIFAR10_data\n",
    "from utils.gradient_check import eval_numerical_gradient_array, eval_numerical_gradient\n",
    "from nndl.layers import *\n",
    "from nndl.conv_layers import *\n",
    "from utils.fast_layers import *\n",
    "from utils.solver import Solver\n",
    "\n",
    "%matplotlib inline\n",
    "plt.rcParams['figure.figsize'] = (10.0, 8.0) # set default size of plots\n",
    "plt.rcParams['image.interpolation'] = 'nearest'\n",
    "plt.rcParams['image.cmap'] = 'gray'\n",
    "\n",
    "# for auto-reloading external modules\n",
    "# see http://stackoverflow.com/questions/1907993/autoreload-of-modules-in-ipython\n",
    "%load_ext autoreload\n",
    "%autoreload 2\n",
    "\n",
    "def rel_error(x, y):\n",
    "  \"\"\" returns relative error \"\"\"\n",
    "  return np.max(np.abs(x - y) / (np.maximum(1e-8, np.abs(x) + np.abs(y))))"
   ]
  },
  {
   "cell_type": "code",
   "execution_count": 3,
   "metadata": {},
   "outputs": [
    {
     "name": "stdout",
     "output_type": "stream",
     "text": [
      "X_train: (49000, 3, 32, 32) \n",
      "y_train: (49000,) \n",
      "X_val: (1000, 3, 32, 32) \n",
      "y_val: (1000,) \n",
      "X_test: (1000, 3, 32, 32) \n",
      "y_test: (1000,) \n"
     ]
    }
   ],
   "source": [
    "# Load the (preprocessed) CIFAR10 data.\n",
    "\n",
    "data = get_CIFAR10_data()\n",
    "for k in data.keys():\n",
    "  print('{}: {} '.format(k, data[k].shape))"
   ]
  },
  {
   "cell_type": "markdown",
   "metadata": {},
   "source": [
    "## Three layer CNN\n",
    "\n",
    "In this notebook, you will implement a three layer CNN.  The `ThreeLayerConvNet` class is in `nndl/cnn.py`.  You'll need to modify that code for this section, including the initialization, as well as the calculation of the loss and gradients.  You should be able to use the building blocks you have either earlier coded or that we have provided.  Be sure to use the fast layers.\n",
    "\n",
    "The architecture of this CNN will be:\n",
    "\n",
    "conv - relu - 2x2 max pool - affine - relu - affine - softmax\n",
    "\n",
    "We won't use batchnorm yet.  You've also done enough of these to know how to debug; use the cells below.\n",
    "\n",
    "Note: As we are implementing several layers CNN networks. The gradient error can be expected for the `eval_numerical_gradient()` function. If your `W1 max relative error` and `W2 max relative error` are around or below 0.01, they should be acceptable. Other errors should be less than 1e-5. "
   ]
  },
  {
   "cell_type": "code",
   "execution_count": 9,
   "metadata": {},
   "outputs": [
    {
     "name": "stdout",
     "output_type": "stream",
     "text": [
      "W1 max relative error: 0.0006889253287425007\n",
      "W2 max relative error: 0.012347893779489949\n",
      "W3 max relative error: 0.0001509510487147843\n",
      "b1 max relative error: 8.199594483386093e-06\n",
      "b2 max relative error: 1.401990745801395e-07\n",
      "b3 max relative error: 1.0531469677657897e-09\n"
     ]
    }
   ],
   "source": [
    "num_inputs = 2\n",
    "input_dim = (3, 16, 16)\n",
    "reg = 0.0\n",
    "num_classes = 10\n",
    "X = np.random.randn(num_inputs, *input_dim)\n",
    "y = np.random.randint(num_classes, size=num_inputs)\n",
    "\n",
    "model = ThreeLayerConvNet(num_filters=3, filter_size=3,\n",
    "                          input_dim=input_dim, hidden_dim=7,\n",
    "                          dtype=np.float64)\n",
    "loss, grads = model.loss(X, y)\n",
    "for param_name in sorted(grads):\n",
    "    f = lambda _: model.loss(X, y)[0]\n",
    "    param_grad_num = eval_numerical_gradient(f, model.params[param_name], verbose=False, h=1e-6)\n",
    "    e = rel_error(param_grad_num, grads[param_name])\n",
    "    print('{} max relative error: {}'.format(param_name, rel_error(param_grad_num, grads[param_name])))"
   ]
  },
  {
   "cell_type": "markdown",
   "metadata": {},
   "source": [
    "### Overfit small dataset\n",
    "\n",
    "To check your CNN implementation, let's overfit a small dataset."
   ]
  },
  {
   "cell_type": "code",
   "execution_count": 10,
   "metadata": {},
   "outputs": [
    {
     "name": "stdout",
     "output_type": "stream",
     "text": [
      "(Iteration 1 / 20) loss: 2.231692\n",
      "(Epoch 0 / 10) train acc: 0.220000; val_acc: 0.125000\n",
      "(Iteration 2 / 20) loss: 5.270524\n",
      "(Epoch 1 / 10) train acc: 0.220000; val_acc: 0.136000\n",
      "(Iteration 3 / 20) loss: 3.841266\n",
      "(Iteration 4 / 20) loss: 2.859384\n",
      "(Epoch 2 / 10) train acc: 0.120000; val_acc: 0.107000\n",
      "(Iteration 5 / 20) loss: 2.417428\n",
      "(Iteration 6 / 20) loss: 2.992613\n",
      "(Epoch 3 / 10) train acc: 0.200000; val_acc: 0.110000\n",
      "(Iteration 7 / 20) loss: 2.499842\n",
      "(Iteration 8 / 20) loss: 2.207492\n",
      "(Epoch 4 / 10) train acc: 0.250000; val_acc: 0.103000\n",
      "(Iteration 9 / 20) loss: 2.095701\n",
      "(Iteration 10 / 20) loss: 2.092764\n",
      "(Epoch 5 / 10) train acc: 0.300000; val_acc: 0.131000\n",
      "(Iteration 11 / 20) loss: 2.007137\n",
      "(Iteration 12 / 20) loss: 1.872362\n",
      "(Epoch 6 / 10) train acc: 0.410000; val_acc: 0.157000\n",
      "(Iteration 13 / 20) loss: 1.871292\n",
      "(Iteration 14 / 20) loss: 1.856622\n",
      "(Epoch 7 / 10) train acc: 0.470000; val_acc: 0.164000\n",
      "(Iteration 15 / 20) loss: 2.038772\n",
      "(Iteration 16 / 20) loss: 1.672132\n",
      "(Epoch 8 / 10) train acc: 0.440000; val_acc: 0.168000\n",
      "(Iteration 17 / 20) loss: 1.678278\n",
      "(Iteration 18 / 20) loss: 1.511855\n",
      "(Epoch 9 / 10) train acc: 0.470000; val_acc: 0.180000\n",
      "(Iteration 19 / 20) loss: 1.487265\n",
      "(Iteration 20 / 20) loss: 1.433292\n",
      "(Epoch 10 / 10) train acc: 0.650000; val_acc: 0.177000\n"
     ]
    }
   ],
   "source": [
    "num_train = 100\n",
    "small_data = {\n",
    "  'X_train': data['X_train'][:num_train],\n",
    "  'y_train': data['y_train'][:num_train],\n",
    "  'X_val': data['X_val'],\n",
    "  'y_val': data['y_val'],\n",
    "}\n",
    "\n",
    "model = ThreeLayerConvNet(weight_scale=1e-2)\n",
    "\n",
    "solver = Solver(model, small_data,\n",
    "                num_epochs=10, batch_size=50,\n",
    "                update_rule='adam',\n",
    "                optim_config={\n",
    "                  'learning_rate': 1e-3,\n",
    "                },\n",
    "                verbose=True, print_every=1)\n",
    "solver.train()"
   ]
  },
  {
   "cell_type": "code",
   "execution_count": 11,
   "metadata": {},
   "outputs": [
    {
     "data": {
      "image/png": "[encoded data removed]",
      "text/plain": [
       "<Figure size 720x576 with 2 Axes>"
      ]
     },
     "metadata": {
      "needs_background": "light"
     },
     "output_type": "display_data"
    }
   ],
   "source": [
    "plt.subplot(2, 1, 1)\n",
    "plt.plot(solver.loss_history, 'o')\n",
    "plt.xlabel('iteration')\n",
    "plt.ylabel('loss')\n",
    "\n",
    "plt.subplot(2, 1, 2)\n",
    "plt.plot(solver.train_acc_history, '-o')\n",
    "plt.plot(solver.val_acc_history, '-o')\n",
    "plt.legend(['train', 'val'], loc='upper left')\n",
    "plt.xlabel('epoch')\n",
    "plt.ylabel('accuracy')\n",
    "plt.show()"
   ]
  },
  {
   "cell_type": "markdown",
   "metadata": {},
   "source": [
    "## Train the network\n",
    "\n",
    "Now we train the 3 layer CNN on CIFAR-10 and assess its accuracy."
   ]
  },
  {
   "cell_type": "code",
   "execution_count": 12,
   "metadata": {
    "scrolled": false
   },
   "outputs": [
    {
     "name": "stdout",
     "output_type": "stream",
     "text": [
      "(Iteration 1 / 980) loss: 2.302655\n",
      "(Epoch 0 / 1) train acc: 0.097000; val_acc: 0.119000\n",
      "(Iteration 21 / 980) loss: 2.050213\n",
      "(Iteration 41 / 980) loss: 1.925997\n",
      "(Iteration 61 / 980) loss: 1.793717\n",
      "(Iteration 81 / 980) loss: 1.706910\n",
      "(Iteration 101 / 980) loss: 1.790902\n",
      "(Iteration 121 / 980) loss: 1.833335\n",
      "(Iteration 141 / 980) loss: 1.818073\n",
      "(Iteration 161 / 980) loss: 1.648337\n",
      "(Iteration 181 / 980) loss: 1.746518\n",
      "(Iteration 201 / 980) loss: 1.933654\n",
      "(Iteration 221 / 980) loss: 1.628445\n",
      "(Iteration 241 / 980) loss: 1.876462\n",
      "(Iteration 261 / 980) loss: 1.605516\n",
      "(Iteration 281 / 980) loss: 1.875975\n",
      "(Iteration 301 / 980) loss: 1.445142\n",
      "(Iteration 321 / 980) loss: 1.722377\n",
      "(Iteration 341 / 980) loss: 1.665971\n",
      "(Iteration 361 / 980) loss: 1.439348\n",
      "(Iteration 381 / 980) loss: 1.827736\n",
      "(Iteration 401 / 980) loss: 1.542811\n",
      "(Iteration 421 / 980) loss: 1.592941\n",
      "(Iteration 441 / 980) loss: 1.747428\n",
      "(Iteration 461 / 980) loss: 1.467080\n",
      "(Iteration 481 / 980) loss: 1.471145\n",
      "(Iteration 501 / 980) loss: 1.601461\n",
      "(Iteration 521 / 980) loss: 1.908184\n",
      "(Iteration 541 / 980) loss: 1.743051\n",
      "(Iteration 561 / 980) loss: 1.551372\n",
      "(Iteration 581 / 980) loss: 1.269701\n",
      "(Iteration 601 / 980) loss: 1.503718\n",
      "(Iteration 621 / 980) loss: 1.484240\n",
      "(Iteration 641 / 980) loss: 1.678884\n",
      "(Iteration 661 / 980) loss: 1.497218\n",
      "(Iteration 681 / 980) loss: 1.800074\n",
      "(Iteration 701 / 980) loss: 1.784715\n",
      "(Iteration 721 / 980) loss: 1.666334\n",
      "(Iteration 741 / 980) loss: 1.506445\n",
      "(Iteration 761 / 980) loss: 1.658339\n",
      "(Iteration 781 / 980) loss: 1.502769\n",
      "(Iteration 801 / 980) loss: 1.566840\n",
      "(Iteration 821 / 980) loss: 1.431716\n",
      "(Iteration 841 / 980) loss: 1.517441\n",
      "(Iteration 861 / 980) loss: 1.356430\n",
      "(Iteration 881 / 980) loss: 1.432078\n",
      "(Iteration 901 / 980) loss: 1.756423\n",
      "(Iteration 921 / 980) loss: 1.197948\n",
      "(Iteration 941 / 980) loss: 1.765612\n",
      "(Iteration 961 / 980) loss: 1.467440\n",
      "(Epoch 1 / 1) train acc: 0.458000; val_acc: 0.473000\n"
     ]
    }
   ],
   "source": [
    "model = ThreeLayerConvNet(weight_scale=0.001, hidden_dim=500, reg=0.001)\n",
    "\n",
    "solver = Solver(model, data,\n",
    "                num_epochs=1, batch_size=50,\n",
    "                update_rule='adam',\n",
    "                optim_config={\n",
    "                  'learning_rate': 1e-3,\n",
    "                },\n",
    "                verbose=True, print_every=20)\n",
    "solver.train()"
   ]
  },
  {
   "cell_type": "markdown",
   "metadata": {},
   "source": [
    "# Get > 65% validation accuracy on CIFAR-10.\n",
    "\n",
    "In the last part of the assignment, we'll now ask you to train a CNN to get better than 65% validation accuracy on CIFAR-10.\n",
    "\n",
    "### Things you should try:\n",
    "- Filter size: Above we used 7x7; but VGGNet and onwards showed stacks of 3x3 filters are good.  \n",
    "- Number of filters: Above we used 32 filters. Do more or fewer do better?\n",
    "- Batch normalization: Try adding spatial batch normalization after convolution layers and vanilla batch normalization aafter affine layers. Do your networks train faster?\n",
    "- Network architecture: Can a deeper CNN do better?  Consider these architectures:\n",
    "    - [conv-relu-pool]xN - conv - relu - [affine]xM - [softmax or SVM]\n",
    "    - [conv-relu-pool]XN - [affine]XM - [softmax or SVM]\n",
    "    - [conv-relu-conv-relu-pool]xN - [affine]xM - [softmax or SVM]\n",
    "\n",
    "### Tips for training\n",
    "For each network architecture that you try, you should tune the learning rate and regularization strength. When doing this there are a couple important things to keep in mind:\n",
    "\n",
    "- If the parameters are working well, you should see improvement within a few hundred iterations\n",
    "- Remember the coarse-to-fine approach for hyperparameter tuning: start by testing a large range of hyperparameters for just a few training iterations to find the combinations of parameters that are working at all.\n",
    "- Once you have found some sets of parameters that seem to work, search more finely around these parameters. You may need to train for more epochs."
   ]
  },
  {
   "cell_type": "code",
   "execution_count": 14,
   "metadata": {
    "scrolled": false
   },
   "outputs": [
    {
     "name": "stdout",
     "output_type": "stream",
     "text": [
      "(Iteration 1 / 2450) loss: 2.302623\n",
      "(Epoch 0 / 10) train acc: 0.099000; val_acc: 0.102000\n",
      "(Iteration 101 / 2450) loss: 1.480402\n",
      "(Iteration 201 / 2450) loss: 1.298648\n",
      "(Epoch 1 / 10) train acc: 0.536000; val_acc: 0.551000\n",
      "(Iteration 301 / 2450) loss: 1.374439\n",
      "(Iteration 401 / 2450) loss: 1.096609\n",
      "(Epoch 2 / 10) train acc: 0.600000; val_acc: 0.580000\n",
      "(Iteration 501 / 2450) loss: 1.174751\n",
      "(Iteration 601 / 2450) loss: 0.965672\n",
      "(Iteration 701 / 2450) loss: 0.868113\n",
      "(Epoch 3 / 10) train acc: 0.669000; val_acc: 0.633000\n",
      "(Iteration 801 / 2450) loss: 1.022838\n",
      "(Iteration 901 / 2450) loss: 0.939050\n",
      "(Epoch 4 / 10) train acc: 0.706000; val_acc: 0.641000\n",
      "(Iteration 1001 / 2450) loss: 0.860254\n",
      "(Iteration 1101 / 2450) loss: 0.847473\n",
      "(Iteration 1201 / 2450) loss: 0.877778\n",
      "(Epoch 5 / 10) train acc: 0.710000; val_acc: 0.648000\n",
      "(Iteration 1301 / 2450) loss: 0.773505\n",
      "(Iteration 1401 / 2450) loss: 0.840356\n",
      "(Epoch 6 / 10) train acc: 0.736000; val_acc: 0.657000\n",
      "(Iteration 1501 / 2450) loss: 0.733157\n",
      "(Iteration 1601 / 2450) loss: 0.656793\n",
      "(Iteration 1701 / 2450) loss: 0.525531\n",
      "(Epoch 7 / 10) train acc: 0.764000; val_acc: 0.649000\n",
      "(Iteration 1801 / 2450) loss: 0.675621\n",
      "(Iteration 1901 / 2450) loss: 0.557346\n",
      "(Epoch 8 / 10) train acc: 0.759000; val_acc: 0.663000\n",
      "(Iteration 2001 / 2450) loss: 0.566126\n",
      "(Iteration 2101 / 2450) loss: 0.619625\n",
      "(Iteration 2201 / 2450) loss: 0.642176\n",
      "(Epoch 9 / 10) train acc: 0.785000; val_acc: 0.655000\n",
      "(Iteration 2301 / 2450) loss: 0.548517\n",
      "(Iteration 2401 / 2450) loss: 0.519677\n",
      "(Epoch 10 / 10) train acc: 0.794000; val_acc: 0.674000\n"
     ]
    }
   ],
   "source": [
    "# ================================================================ #\n",
    "# YOUR CODE HERE:\n",
    "#   Implement a CNN to achieve greater than 65% validation accuracy\n",
    "#   on CIFAR-10.\n",
    "# ================================================================ #\n",
    "weight_scale = 1e-3\n",
    "hidden_dim = 400\n",
    "reg = 0.002\n",
    "lr = 1e-3\n",
    "\n",
    "model = ThreeLayerConvNet(weight_scale=weight_scale, hidden_dim=hidden_dim, reg=reg, filter_size=5)\n",
    "\n",
    "solver = Solver(model, data, num_epochs=10, batch_size=200, update_rule='adam',\n",
    "                optim_config={\n",
    "                  'learning_rate': lr,\n",
    "                },\n",
    "                lr_decay = 0.95,\n",
    "                verbose=True, print_every=100)\n",
    "solver.train()\n",
    "\n",
    "\n",
    "# ================================================================ #\n",
    "# END YOUR CODE HERE\n",
    "# ================================================================ #\n"
   ]
  },
  {
   "cell_type": "code",
   "execution_count": null,
   "metadata": {},
   "outputs": [],
   "source": []
  }
 ],
 "metadata": {
  "kernelspec": {
   "display_name": "Python 3 (ipykernel)",
   "language": "python",
   "name": "python3"
  },
  "language_info": {
   "codemirror_mode": {
    "name": "ipython",
    "version": 3
   },
   "file_extension": ".py",
   "mimetype": "text/x-python",
   "name": "python",
   "nbconvert_exporter": "python",
   "pygments_lexer": "ipython3",
   "version": "3.9.5"
  },
  "pycharm": {
   "stem_cell": {
    "cell_type": "raw",
    "metadata": {
     "collapsed": false
    },
    "source": []
   }
  }
 },
 "nbformat": 4,
 "nbformat_minor": 2
}
