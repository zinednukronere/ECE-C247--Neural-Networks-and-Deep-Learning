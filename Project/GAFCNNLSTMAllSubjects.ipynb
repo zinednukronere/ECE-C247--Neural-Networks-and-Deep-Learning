{
  "nbformat": 4,
  "nbformat_minor": 0,
  "metadata": {
    "colab": {
      "name": "myImplementationNo3DConv.ipynb",
      "provenance": [],
      "collapsed_sections": []
    },
    "kernelspec": {
      "name": "python3",
      "display_name": "Python 3"
    },
    "language_info": {
      "name": "python"
    },
    "accelerator": "GPU"
  },
  "cells": [
    {
      "cell_type": "code",
      "execution_count": null,
      "metadata": {
        "colab": {
          "base_uri": "https://localhost:8080/"
        },
        "id": "pOdQ6E4E1RXG",
        "outputId": "6c8f7c5a-12b2-4568-cbf8-6e9ae8d9e2af"
      },
      "outputs": [
        {
          "output_type": "stream",
          "name": "stdout",
          "text": [
            "Drive already mounted at /content/gdrive; to attempt to forcibly remount, call drive.mount(\"/content/gdrive\", force_remount=True).\n",
            "/content/gdrive/MyDrive/ECEC247_Project\n"
          ]
        }
      ],
      "source": [
        "from google.colab import drive\n",
        "drive.mount('/content/gdrive')\n",
        "%cd /content/gdrive/MyDrive/ECEC247_Project"
      ]
    },
    {
      "cell_type": "code",
      "source": [
        "import numpy as np\n",
        "import pandas as pd\n",
        "import tensorflow as tf\n",
        "from tensorflow import keras \n",
        "from keras import models\n",
        "from keras import layers\n",
        "from tensorflow.keras.utils import to_categorical\n",
        "from tensorflow.keras.models import Sequential\n",
        "from keras.layers import TimeDistributed\n",
        "from tensorflow.keras.regularizers import L1L2\n"
      ],
      "metadata": {
        "id": "EoK8jpUM1y81"
      },
      "execution_count": null,
      "outputs": []
    },
    {
      "cell_type": "code",
      "source": [
        "!pip install pyts"
      ],
      "metadata": {
        "colab": {
          "base_uri": "https://localhost:8080/"
        },
        "id": "mF-eMDuD2BUg",
        "outputId": "c8cea6d5-e359-445b-9068-c59a9d360bd6"
      },
      "execution_count": null,
      "outputs": [
        {
          "output_type": "stream",
          "name": "stdout",
          "text": [
            "Requirement already satisfied: pyts in /usr/local/lib/python3.7/dist-packages (0.12.0)\n",
            "Requirement already satisfied: joblib>=0.12 in /usr/local/lib/python3.7/dist-packages (from pyts) (1.1.0)\n",
            "Requirement already satisfied: numba>=0.48.0 in /usr/local/lib/python3.7/dist-packages (from pyts) (0.51.2)\n",
            "Requirement already satisfied: scipy>=1.3.0 in /usr/local/lib/python3.7/dist-packages (from pyts) (1.4.1)\n",
            "Requirement already satisfied: scikit-learn>=0.22.1 in /usr/local/lib/python3.7/dist-packages (from pyts) (1.0.2)\n",
            "Requirement already satisfied: numpy>=1.17.5 in /usr/local/lib/python3.7/dist-packages (from pyts) (1.21.5)\n",
            "Requirement already satisfied: llvmlite<0.35,>=0.34.0.dev0 in /usr/local/lib/python3.7/dist-packages (from numba>=0.48.0->pyts) (0.34.0)\n",
            "Requirement already satisfied: setuptools in /usr/local/lib/python3.7/dist-packages (from numba>=0.48.0->pyts) (57.4.0)\n",
            "Requirement already satisfied: threadpoolctl>=2.0.0 in /usr/local/lib/python3.7/dist-packages (from scikit-learn>=0.22.1->pyts) (3.1.0)\n"
          ]
        }
      ]
    },
    {
      "cell_type": "code",
      "source": [
        "from pyts.image import GramianAngularField"
      ],
      "metadata": {
        "id": "DBAUL3AQ2Cub"
      },
      "execution_count": null,
      "outputs": []
    },
    {
      "cell_type": "code",
      "source": [
        "X_test = np.load(\"X_test.npy\")\n",
        "y_test = np.load(\"y_test.npy\")\n",
        "person_train_valid = np.load(\"person_train_valid.npy\")\n",
        "X_train_valid = np.load(\"X_train_valid.npy\")\n",
        "y_train_valid = np.load(\"y_train_valid.npy\")\n",
        "person_test = np.load(\"person_test.npy\")\n",
        "\n",
        "## Printing the shapes of the numpy arrays\n",
        "\n",
        "print ('Training/Valid data shape: {}'.format(X_train_valid.shape))\n",
        "print ('Test data shape: {}'.format(X_test.shape))\n",
        "print ('Training/Valid target shape: {}'.format(y_train_valid.shape))\n",
        "print ('Test target shape: {}'.format(y_test.shape))\n",
        "print ('Person train/valid shape: {}'.format(person_train_valid.shape))\n",
        "print ('Person test shape: {}'.format(person_test.shape))\n",
        "y_train_valid -= 769\n",
        "y_test -= 769"
      ],
      "metadata": {
        "colab": {
          "base_uri": "https://localhost:8080/"
        },
        "id": "l0W4DBoH2EW4",
        "outputId": "02eda82a-4b9d-468e-d147-434ab6960e7e"
      },
      "execution_count": null,
      "outputs": [
        {
          "output_type": "stream",
          "name": "stdout",
          "text": [
            "Training/Valid data shape: (2115, 22, 1000)\n",
            "Test data shape: (443, 22, 1000)\n",
            "Training/Valid target shape: (2115,)\n",
            "Test target shape: (443,)\n",
            "Person train/valid shape: (2115, 1)\n",
            "Person test shape: (443, 1)\n"
          ]
        }
      ]
    },
    {
      "cell_type": "code",
      "source": [
        "ind_valid = np.random.choice(X_train_valid.shape[0], 500, replace=False)\n",
        "ind_train = np.array(list(set(range(X_train_valid.shape[0])).difference(set(ind_valid))))\n",
        "\n",
        "# Creating the training and validation sets using the generated indices\n",
        "(x_train, x_valid) = X_train_valid[ind_train], X_train_valid[ind_valid] \n",
        "(y_train, y_valid) = y_train_valid[ind_train], y_train_valid[ind_valid]"
      ],
      "metadata": {
        "id": "ToUHuxpYtjCj"
      },
      "execution_count": null,
      "outputs": []
    },
    {
      "cell_type": "code",
      "source": [
        "def data_prep(X,y,trim,sub_sample,average,noise,willMaxPool,willAverage,willSubsample):\n",
        "    \n",
        "    total_X = np.zeros((1, X.shape[1], int(X.shape[2]/sub_sample)))\n",
        "    total_y = np.zeros((1))\n",
        "    \n",
        "    # Trimming the data (sample,22,1000) -> (sample,22,500)\n",
        "    X = X[:,:,0:trim]\n",
        "    print('Shape of X after trimming:',X.shape)\n",
        "    \n",
        "    if willMaxPool:\n",
        "        # Maxpooling the data (sample,22,1000) -> (sample,22,500/sub_sample)\n",
        "        X_max = np.max(X.reshape(X.shape[0], X.shape[1], -1, sub_sample), axis=3)\n",
        "    \n",
        "    \n",
        "        total_X = np.vstack((total_X,X_max))\n",
        "        total_y = np.hstack((total_y, y))\n",
        "        print('Shape of X after maxpooling:',total_X.shape)\n",
        "    \n",
        "    \n",
        "    # Averaging + noise \n",
        "    if willAverage:\n",
        "        X_average = np.mean(X.reshape(X.shape[0], X.shape[1], -1, average),axis=3)\n",
        "        if noise:\n",
        "            X_average = X_average + np.random.normal(0.0, 0.5, X_average.shape)\n",
        "    \n",
        "        total_X = np.vstack((total_X, X_average))\n",
        "        total_y = np.hstack((total_y, y))\n",
        "        print('Shape of X after averaging+noise and concatenating:',total_X.shape)\n",
        "    \n",
        "    # Subsampling\n",
        "    if willSubsample:\n",
        "        for i in range(sub_sample):\n",
        "            \n",
        "            X_subsample = X[:, :, i::sub_sample] + \\\n",
        "                                (np.random.normal(0.0, 0.5, X[:, :,i::sub_sample].shape) if noise else 0.0)\n",
        "                \n",
        "        total_X = np.vstack((total_X, X_subsample))\n",
        "        total_y = np.hstack((total_y, y))\n",
        "            \n",
        "        \n",
        "        print('Shape of X after subsampling and concatenating:',total_X.shape)\n",
        "    \n",
        "    total_X=total_X[1:,:,:]\n",
        "    total_y=total_y[1:]\n",
        "    return total_X,total_y\n"
      ],
      "metadata": {
        "id": "Ix40_X78co9Q"
      },
      "execution_count": null,
      "outputs": []
    },
    {
      "cell_type": "code",
      "source": [
        "X_train_prep,y_train_prep = data_prep(x_train,y_train,1000,2,2,\n",
        "                                                           noise=True,willMaxPool=True,\n",
        "                                                           willAverage=True, willSubsample=True)\n",
        "X_valid_prep,y_valid_prep = data_prep(x_valid,y_valid,1000,2,2,\n",
        "                                                           noise=True,willMaxPool=True,\n",
        "                                                           willAverage=True,willSubsample=True)\n",
        "\n",
        "y_trainCat = to_categorical(y_train_prep, 4)\n",
        "y_validCat = to_categorical(y_valid_prep, 4)"
      ],
      "metadata": {
        "colab": {
          "base_uri": "https://localhost:8080/"
        },
        "id": "RD7_2cMrtvAE",
        "outputId": "d4ff710c-4a92-46a0-a96f-151579b8715c"
      },
      "execution_count": null,
      "outputs": [
        {
          "output_type": "stream",
          "name": "stdout",
          "text": [
            "Shape of X after trimming: (1615, 22, 1000)\n",
            "Shape of X after maxpooling: (1616, 22, 500)\n",
            "Shape of X after averaging+noise and concatenating: (3231, 22, 500)\n",
            "Shape of X after subsampling and concatenating: (4846, 22, 500)\n",
            "Shape of X after trimming: (500, 22, 1000)\n",
            "Shape of X after maxpooling: (501, 22, 500)\n",
            "Shape of X after averaging+noise and concatenating: (1001, 22, 500)\n",
            "Shape of X after subsampling and concatenating: (1501, 22, 500)\n"
          ]
        }
      ]
    },
    {
      "cell_type": "code",
      "source": [
        "def fitTransformGramianTimeSeries(dataset,imgSize,timeStep):\n",
        "    gcfs = {}\n",
        "    amountOfTime = dataset.shape[2]\n",
        "    noOfImages = int(amountOfTime / timeStep)\n",
        "    amountOfFeatures = dataset.shape[1]\n",
        "    amountOfSamples = dataset.shape[0]\n",
        "    imageOut = np.empty((amountOfSamples,noOfImages,imgSize,imgSize, amountOfFeatures))\n",
        "    for k in range(amountOfFeatures):\n",
        "        feature = dataset[:,k,:]\n",
        "        gcf = GramianAngularField(image_size=imgSize,method='d')\n",
        "        gcf = gcf.fit(feature)\n",
        "        string = \"gcf\"+str(k)\n",
        "        gcfs[string] = gcf\n",
        "        seperated = np.array_split(feature, noOfImages, axis=1)\n",
        "\n",
        "        for ind in range(len(seperated)):\n",
        "            section = seperated[ind]\n",
        "            newImage = gcf.transform(section)\n",
        "            imageOut[:,ind,:,:,k] = newImage\n",
        "\n",
        "    return gcfs,imageOut\n",
        "\n",
        "def transformGramianTimeStep(dataset,gcfs,imgSize,timeStep):\n",
        "    amountOfTime = dataset.shape[2]\n",
        "    noOfImages = int(amountOfTime / timeStep)\n",
        "    amountOfFeatures = dataset.shape[1]\n",
        "    amountOfSamples = dataset.shape[0]\n",
        "    imageOut = np.empty((amountOfSamples,noOfImages,imgSize,imgSize, amountOfFeatures))\n",
        "    for k in range(amountOfFeatures):\n",
        "        feature = dataset[:,k,:]\n",
        "        seperated = np.array_split(feature, noOfImages, axis=1)\n",
        "        string = \"gcf\"+str(k)\n",
        "        gcf = gcfs[string]\n",
        "        for ind in range(len(seperated)):\n",
        "            section = seperated[ind]\n",
        "            newImage = gcf.transform(section)\n",
        "            imageOut[:,ind,:,:,k] = newImage\n",
        "    return imageOut"
      ],
      "metadata": {
        "id": "nit7P-8U2Okc"
      },
      "execution_count": null,
      "outputs": []
    },
    {
      "cell_type": "code",
      "source": [
        "gcfs,trainImages = fitTransformGramianTimeSeries(X_train_prep,30,100)\n",
        "valImages = transformGramianTimeStep(X_valid_prep,gcfs,30,100)"
      ],
      "metadata": {
        "id": "TlC97E4-t1Yc"
      },
      "execution_count": null,
      "outputs": []
    },
    {
      "cell_type": "code",
      "source": [
        "l2Strength=0.1\n",
        "l1Strength=0.00\n",
        "kernelSize = 2\n",
        "\n",
        "inp = layers.Input((trainImages.shape[1], trainImages.shape[2], trainImages.shape[3], trainImages.shape[4]))\n",
        "hidden = TimeDistributed(layers.Conv2D(filters=8, \n",
        "                                       kernel_regularizer=L1L2(l1=l1Strength, l2=l2Strength),\n",
        "                                       kernel_size=(kernelSize,kernelSize), padding='same', activation='elu'))(inp)\n",
        "hidden = TimeDistributed(layers.MaxPooling2D(pool_size=(2,2), padding='same'))(hidden)\n",
        "hidden = TimeDistributed(layers.BatchNormalization())(hidden)\n",
        "hidden = TimeDistributed(layers.Dropout(0.5))(hidden)\n",
        "hidden = TimeDistributed(layers.Conv2D(filters=10, \n",
        "                                       kernel_regularizer=L1L2(l1=l1Strength, l2=l2Strength),\n",
        "                                       kernel_size=(kernelSize,kernelSize), padding='same', activation='elu'))(inp)\n",
        "hidden = TimeDistributed(layers.MaxPooling2D(pool_size=(2,2), padding='same'))(hidden)\n",
        "hidden = TimeDistributed(layers.BatchNormalization())(hidden)\n",
        "hidden = TimeDistributed(layers.Dropout(0.5))(hidden)\n",
        "hidden = TimeDistributed(layers.Flatten())(hidden)\n",
        "#hidden = layers.Bidirectional(layers.LSTM(64,return_sequences=True))(hidden)\n",
        "hidden = layers.Bidirectional(layers.LSTM(32,return_sequences=False))(hidden)\n",
        "hidden = layers.Dropout(0.5)(hidden)\n",
        "hidden = layers.Dense(4, kernel_regularizer=L1L2(l1=l1Strength, l2=l2Strength),activation='softmax')(hidden)\n",
        "\n",
        "model = tf.keras.models.Model(inputs=inp, outputs=hidden)\n",
        "model.summary()\n"
      ],
      "metadata": {
        "id": "-lBi_yvE2cqF"
      },
      "execution_count": null,
      "outputs": []
    },
    {
      "cell_type": "code",
      "source": [
        "learning_rate = 1e-3\n",
        "epochs = 20\n",
        "optimizer = keras.optimizers.Adam(lr=0.001,epsilon=1e-8, decay=0.001)\n",
        "\n",
        "model.compile(loss='categorical_crossentropy',\n",
        "                 optimizer=optimizer,\n",
        "                 metrics=['accuracy'])\n",
        "\n",
        "# Training and validating the model\n",
        "results = model.fit(trainImages,\n",
        "             y_trainCat,\n",
        "             batch_size=32,\n",
        "             epochs=epochs,\n",
        "             validation_data=(valImages, y_validCat), verbose=True)"
      ],
      "metadata": {
        "id": "109rKILo3LA5"
      },
      "execution_count": null,
      "outputs": []
    },
    {
      "cell_type": "code",
      "source": [
        "model.save('forAllData')\n"
      ],
      "metadata": {
        "colab": {
          "base_uri": "https://localhost:8080/"
        },
        "id": "UzIUNZQwxNRw",
        "outputId": "b1d4a74a-d635-4ab9-fd3a-cd5dc70ae6c2"
      },
      "execution_count": null,
      "outputs": [
        {
          "output_type": "stream",
          "name": "stderr",
          "text": [
            "WARNING:absl:Found untraced functions such as lstm_cell_1_layer_call_fn, lstm_cell_1_layer_call_and_return_conditional_losses, lstm_cell_2_layer_call_fn, lstm_cell_2_layer_call_and_return_conditional_losses while saving (showing 4 of 4). These functions will not be directly callable after loading.\n"
          ]
        },
        {
          "output_type": "stream",
          "name": "stdout",
          "text": [
            "INFO:tensorflow:Assets written to: forAllData/assets\n"
          ]
        },
        {
          "output_type": "stream",
          "name": "stderr",
          "text": [
            "INFO:tensorflow:Assets written to: forAllData/assets\n",
            "WARNING:absl:<keras.layers.recurrent.LSTMCell object at 0x7f4dc60f6610> has the same name 'LSTMCell' as a built-in Keras object. Consider renaming <class 'keras.layers.recurrent.LSTMCell'> to avoid naming conflicts when loading with `tf.keras.models.load_model`. If renaming is not possible, pass the object in the `custom_objects` parameter of the load function.\n",
            "WARNING:absl:<keras.layers.recurrent.LSTMCell object at 0x7f4dc5dff050> has the same name 'LSTMCell' as a built-in Keras object. Consider renaming <class 'keras.layers.recurrent.LSTMCell'> to avoid naming conflicts when loading with `tf.keras.models.load_model`. If renaming is not possible, pass the object in the `custom_objects` parameter of the load function.\n"
          ]
        }
      ]
    },
    {
      "cell_type": "code",
      "source": [
        "import matplotlib.pyplot as plt"
      ],
      "metadata": {
        "id": "tzv6sjFxOvkH"
      },
      "execution_count": null,
      "outputs": []
    },
    {
      "cell_type": "code",
      "source": [
        "import matplotlib.pyplot as plt\n",
        "plt.plot(results.history['accuracy'])\n",
        "plt.plot(results.history['val_accuracy'])\n",
        "plt.title('Basic FC model accuracy trajectory')\n",
        "plt.ylabel('accuracy')\n",
        "plt.xlabel('epoch')\n",
        "plt.legend(['train', 'val'], loc='upper left')\n",
        "plt.show()"
      ],
      "metadata": {
        "colab": {
          "base_uri": "https://localhost:8080/",
          "height": 295
        },
        "id": "Zu2SpfxDOxlF",
        "outputId": "ff6b83a2-db5c-4010-b8ee-9eb19125e829"
      },
      "execution_count": null,
      "outputs": [
        {
          "output_type": "display_data",
          "data": {
            "text/plain": [
              "<Figure size 432x288 with 1 Axes>"
            ],
            "image/png": "[encoded data removed]"
          },
          "metadata": {
            "needs_background": "light"
          }
        }
      ]
    },
    {
      "cell_type": "code",
      "source": [
        "X_test_prep,y_test_prep = data_prep(X_test,y_test,1000,2,2,noise=False,willMaxPool=False,\n",
        "                                                           willAverage=False,willSubsample=True)\n",
        "y_testCat = to_categorical(y_test_prep, 4)\n",
        "\n",
        "testImages = transformGramianTimeStep(X_test_prep,gcfs,30,100)"
      ],
      "metadata": {
        "colab": {
          "base_uri": "https://localhost:8080/"
        },
        "id": "m52o9PJguDgv",
        "outputId": "fda76d51-7141-4088-d7a7-20fb1927ad13"
      },
      "execution_count": null,
      "outputs": [
        {
          "output_type": "stream",
          "name": "stdout",
          "text": [
            "Shape of X after trimming: (443, 22, 1000)\n",
            "Shape of X after subsampling and concatenating: (444, 22, 500)\n"
          ]
        }
      ]
    },
    {
      "cell_type": "code",
      "source": [
        "modelScore = model.evaluate(testImages, y_testCat, verbose=1)\n",
        "print('Test accuracy of the hybrid CNN-LSTM model:',modelScore[1])\n"
      ],
      "metadata": {
        "colab": {
          "base_uri": "https://localhost:8080/"
        },
        "id": "EoOw4XlxuF_p",
        "outputId": "951b2b98-fa09-40ac-f0d5-e20a6daf4bc0"
      },
      "execution_count": null,
      "outputs": [
        {
          "output_type": "stream",
          "name": "stdout",
          "text": [
            "14/14 [==============================] - 0s 20ms/step - loss: 1.5200 - accuracy: 0.4424\n",
            "Test accuracy of the hybrid CNN-LSTM model: 0.44243791699409485\n"
          ]
        }
      ]
    }
  ]
}