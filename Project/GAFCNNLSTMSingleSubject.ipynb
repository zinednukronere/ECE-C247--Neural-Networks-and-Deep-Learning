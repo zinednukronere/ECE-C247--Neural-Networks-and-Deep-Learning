{
  "nbformat": 4,
  "nbformat_minor": 0,
  "metadata": {
    "colab": {
      "name": "myImplementationNoConv3DSingleSubject",
      "provenance": [],
      "collapsed_sections": []
    },
    "kernelspec": {
      "name": "python3",
      "display_name": "Python 3"
    },
    "language_info": {
      "name": "python"
    },
    "accelerator": "GPU"
  },
  "cells": [
    {
      "cell_type": "code",
      "execution_count": null,
      "metadata": {
        "colab": {
          "base_uri": "https://localhost:8080/"
        },
        "id": "AxIMl_huXkRu",
        "outputId": "6eddb04b-3732-4bb1-e16c-e0e70820293b"
      },
      "outputs": [
        {
          "output_type": "stream",
          "name": "stdout",
          "text": [
            "Drive already mounted at /content/gdrive; to attempt to forcibly remount, call drive.mount(\"/content/gdrive\", force_remount=True).\n",
            "/content/gdrive/MyDrive/ECEC247_Project\n"
          ]
        }
      ],
      "source": [
        "from google.colab import drive\n",
        "drive.mount('/content/gdrive')\n",
        "%cd /content/gdrive/MyDrive/ECEC247_Project"
      ]
    },
    {
      "cell_type": "code",
      "source": [
        "import numpy as np\n",
        "import pandas as pd\n",
        "import tensorflow as tf\n",
        "from tensorflow import keras \n",
        "from keras import models\n",
        "from keras import layers\n",
        "from tensorflow.keras.utils import to_categorical\n",
        "from tensorflow.keras.models import Sequential\n",
        "from keras.layers import TimeDistributed\n",
        "from tensorflow.keras.regularizers import L1L2\n",
        "!pip install pyts"
      ],
      "metadata": {
        "colab": {
          "base_uri": "https://localhost:8080/"
        },
        "id": "B74AZa75X1Rr",
        "outputId": "dce77259-65cb-43fb-843c-ef71b6fc39ec"
      },
      "execution_count": null,
      "outputs": [
        {
          "output_type": "stream",
          "name": "stdout",
          "text": [
            "Requirement already satisfied: pyts in /usr/local/lib/python3.7/dist-packages (0.12.0)\n",
            "Requirement already satisfied: scikit-learn>=0.22.1 in /usr/local/lib/python3.7/dist-packages (from pyts) (1.0.2)\n",
            "Requirement already satisfied: joblib>=0.12 in /usr/local/lib/python3.7/dist-packages (from pyts) (1.1.0)\n",
            "Requirement already satisfied: scipy>=1.3.0 in /usr/local/lib/python3.7/dist-packages (from pyts) (1.4.1)\n",
            "Requirement already satisfied: numba>=0.48.0 in /usr/local/lib/python3.7/dist-packages (from pyts) (0.51.2)\n",
            "Requirement already satisfied: numpy>=1.17.5 in /usr/local/lib/python3.7/dist-packages (from pyts) (1.21.5)\n",
            "Requirement already satisfied: llvmlite<0.35,>=0.34.0.dev0 in /usr/local/lib/python3.7/dist-packages (from numba>=0.48.0->pyts) (0.34.0)\n",
            "Requirement already satisfied: setuptools in /usr/local/lib/python3.7/dist-packages (from numba>=0.48.0->pyts) (57.4.0)\n",
            "Requirement already satisfied: threadpoolctl>=2.0.0 in /usr/local/lib/python3.7/dist-packages (from scikit-learn>=0.22.1->pyts) (3.1.0)\n"
          ]
        }
      ]
    },
    {
      "cell_type": "code",
      "source": [
        "from pyts.image import GramianAngularField"
      ],
      "metadata": {
        "id": "n5s41QppX6Cs"
      },
      "execution_count": null,
      "outputs": []
    },
    {
      "cell_type": "code",
      "source": [
        "X_test = np.load(\"X_test.npy\")\n",
        "y_test = np.load(\"y_test.npy\")\n",
        "person_train_valid = np.load(\"person_train_valid.npy\")\n",
        "X_train_valid = np.load(\"X_train_valid.npy\")\n",
        "y_train_valid = np.load(\"y_train_valid.npy\")\n",
        "person_test = np.load(\"person_test.npy\")\n",
        "\n",
        "## Printing the shapes of the numpy arrays\n",
        "\n",
        "print ('Training/Valid data shape: {}'.format(X_train_valid.shape))\n",
        "print ('Test data shape: {}'.format(X_test.shape))\n",
        "print ('Training/Valid target shape: {}'.format(y_train_valid.shape))\n",
        "print ('Test target shape: {}'.format(y_test.shape))\n",
        "print ('Person train/valid shape: {}'.format(person_train_valid.shape))\n",
        "print ('Person test shape: {}'.format(person_test.shape))\n",
        "y_train_valid -= 769\n",
        "y_test -= 769"
      ],
      "metadata": {
        "colab": {
          "base_uri": "https://localhost:8080/"
        },
        "id": "R64sP7THX9B7",
        "outputId": "600fcaa1-e01c-4ce3-8e63-41f7a961b380"
      },
      "execution_count": null,
      "outputs": [
        {
          "output_type": "stream",
          "name": "stdout",
          "text": [
            "Training/Valid data shape: (2115, 22, 1000)\n",
            "Test data shape: (443, 22, 1000)\n",
            "Training/Valid target shape: (2115,)\n",
            "Test target shape: (443,)\n",
            "Person train/valid shape: (2115, 1)\n",
            "Person test shape: (443, 1)\n"
          ]
        }
      ]
    },
    {
      "cell_type": "code",
      "source": [
        "id = 1\n",
        "X_train_valid_SingleSubject = X_train_valid[np.where(person_train_valid == id)[0]]\n",
        "y_train_valid_SingleSubject = y_train_valid[np.where(person_train_valid == id)[0]]"
      ],
      "metadata": {
        "id": "16J7kStSYHfg"
      },
      "execution_count": null,
      "outputs": []
    },
    {
      "cell_type": "code",
      "source": [
        "X_train_valid_SingleSubject.shape"
      ],
      "metadata": {
        "colab": {
          "base_uri": "https://localhost:8080/"
        },
        "id": "sCeYLiwEa5dZ",
        "outputId": "24f02c91-b0e4-47de-b8ae-52f3d4a8e7e2"
      },
      "execution_count": null,
      "outputs": [
        {
          "output_type": "execute_result",
          "data": {
            "text/plain": [
              "(236, 22, 1000)"
            ]
          },
          "metadata": {},
          "execution_count": 6
        }
      ]
    },
    {
      "cell_type": "code",
      "source": [
        "ind_valid = np.random.choice(X_train_valid_SingleSubject.shape[0], 36, replace=False)\n",
        "ind_train = np.array(list(set(range(X_train_valid_SingleSubject.shape[0])).difference(set(ind_valid))))"
      ],
      "metadata": {
        "id": "h0nXOK3JYUDj"
      },
      "execution_count": null,
      "outputs": []
    },
    {
      "cell_type": "code",
      "source": [
        "(x_train, x_valid) = X_train_valid_SingleSubject[ind_train], X_train_valid_SingleSubject[ind_valid] \n",
        "(y_train, y_valid) = y_train_valid_SingleSubject[ind_train], y_train_valid_SingleSubject[ind_valid]"
      ],
      "metadata": {
        "id": "lwEITdRqbimA"
      },
      "execution_count": null,
      "outputs": []
    },
    {
      "cell_type": "code",
      "source": [
        "def data_prep(X,y,trim,sub_sample,average,noise,willMaxPool,willAverage,willSubsample):\n",
        "    \n",
        "    total_X = np.zeros((1, X.shape[1], int(X.shape[2]/sub_sample)))\n",
        "    total_y = np.zeros((1))\n",
        "    \n",
        "    # Trimming the data (sample,22,1000) -> (sample,22,500)\n",
        "    X = X[:,:,0:trim]\n",
        "    print('Shape of X after trimming:',X.shape)\n",
        "    \n",
        "    if willMaxPool:\n",
        "        # Maxpooling the data (sample,22,1000) -> (sample,22,500/sub_sample)\n",
        "        X_max = np.max(X.reshape(X.shape[0], X.shape[1], -1, sub_sample), axis=3)\n",
        "    \n",
        "    \n",
        "        total_X = np.vstack((total_X,X_max))\n",
        "        total_y = np.hstack((total_y, y))\n",
        "        print('Shape of X after maxpooling:',total_X.shape)\n",
        "    \n",
        "    \n",
        "    # Averaging + noise \n",
        "    if willAverage:\n",
        "        X_average = np.mean(X.reshape(X.shape[0], X.shape[1], -1, average),axis=3)\n",
        "        if noise:\n",
        "            X_average = X_average + np.random.normal(0.0, 0.5, X_average.shape)\n",
        "    \n",
        "        total_X = np.vstack((total_X, X_average))\n",
        "        total_y = np.hstack((total_y, y))\n",
        "        print('Shape of X after averaging+noise and concatenating:',total_X.shape)\n",
        "    \n",
        "    # Subsampling\n",
        "    if willSubsample:\n",
        "        for i in range(sub_sample):\n",
        "            \n",
        "            X_subsample = X[:, :, i::sub_sample] + \\\n",
        "                                (np.random.normal(0.0, 0.5, X[:, :,i::sub_sample].shape) if noise else 0.0)\n",
        "                \n",
        "        total_X = np.vstack((total_X, X_subsample))\n",
        "        total_y = np.hstack((total_y, y))\n",
        "            \n",
        "        \n",
        "        print('Shape of X after subsampling and concatenating:',total_X.shape)\n",
        "    \n",
        "    total_X=total_X[1:,:,:]\n",
        "    total_y=total_y[1:]\n",
        "    return total_X,total_y"
      ],
      "metadata": {
        "id": "vUCnVFV2bopg"
      },
      "execution_count": null,
      "outputs": []
    },
    {
      "cell_type": "code",
      "source": [
        "X_train_prep,y_train_prep = data_prep(x_train,y_train,1000,2,2,\n",
        "                                                           noise=True,willMaxPool=True,\n",
        "                                                           willAverage=True, willSubsample=True)\n",
        "X_valid_prep,y_valid_prep = data_prep(x_valid,y_valid,1000,2,2,\n",
        "                                                           noise=True,willMaxPool=True,\n",
        "                                                           willAverage=True,willSubsample=True)\n",
        "\n",
        "y_trainCat = to_categorical(y_train_prep, 4)\n",
        "y_validCat = to_categorical(y_valid_prep, 4)"
      ],
      "metadata": {
        "colab": {
          "base_uri": "https://localhost:8080/"
        },
        "id": "VL4DbXJBbvCn",
        "outputId": "919bfdc0-9e22-48b5-c115-4cbe47763b75"
      },
      "execution_count": null,
      "outputs": [
        {
          "output_type": "stream",
          "name": "stdout",
          "text": [
            "Shape of X after trimming: (200, 22, 1000)\n",
            "Shape of X after maxpooling: (201, 22, 500)\n",
            "Shape of X after averaging+noise and concatenating: (401, 22, 500)\n",
            "Shape of X after subsampling and concatenating: (601, 22, 500)\n",
            "Shape of X after trimming: (36, 22, 1000)\n",
            "Shape of X after maxpooling: (37, 22, 500)\n",
            "Shape of X after averaging+noise and concatenating: (73, 22, 500)\n",
            "Shape of X after subsampling and concatenating: (109, 22, 500)\n"
          ]
        }
      ]
    },
    {
      "cell_type": "code",
      "source": [
        "def fitTransformGramianTimeSeries(dataset,imgSize,timeStep):\n",
        "    gcfs = {}\n",
        "    amountOfTime = dataset.shape[2]\n",
        "    noOfImages = int(amountOfTime / timeStep)\n",
        "    amountOfFeatures = dataset.shape[1]\n",
        "    amountOfSamples = dataset.shape[0]\n",
        "    imageOut = np.empty((amountOfSamples,noOfImages,imgSize,imgSize, amountOfFeatures))\n",
        "    for k in range(amountOfFeatures):\n",
        "        feature = dataset[:,k,:]\n",
        "        gcf = GramianAngularField(image_size=imgSize,method='d')\n",
        "        gcf = gcf.fit(feature)\n",
        "        string = \"gcf\"+str(k)\n",
        "        gcfs[string] = gcf\n",
        "        seperated = np.array_split(feature, noOfImages, axis=1)\n",
        "\n",
        "        for ind in range(len(seperated)):\n",
        "            section = seperated[ind]\n",
        "            newImage = gcf.transform(section)\n",
        "            imageOut[:,ind,:,:,k] = newImage\n",
        "\n",
        "    return gcfs,imageOut\n",
        "\n",
        "def transformGramianTimeStep(dataset,gcfs,imgSize,timeStep):\n",
        "    amountOfTime = dataset.shape[2]\n",
        "    noOfImages = int(amountOfTime / timeStep)\n",
        "    amountOfFeatures = dataset.shape[1]\n",
        "    amountOfSamples = dataset.shape[0]\n",
        "    imageOut = np.empty((amountOfSamples,noOfImages,imgSize,imgSize, amountOfFeatures))\n",
        "    for k in range(amountOfFeatures):\n",
        "        feature = dataset[:,k,:]\n",
        "        seperated = np.array_split(feature, noOfImages, axis=1)\n",
        "        string = \"gcf\"+str(k)\n",
        "        gcf = gcfs[string]\n",
        "        for ind in range(len(seperated)):\n",
        "            section = seperated[ind]\n",
        "            newImage = gcf.transform(section)\n",
        "            imageOut[:,ind,:,:,k] = newImage\n",
        "    return imageOut"
      ],
      "metadata": {
        "id": "xV5bLshKb7rb"
      },
      "execution_count": null,
      "outputs": []
    },
    {
      "cell_type": "code",
      "source": [
        "gcfs,trainImages = fitTransformGramianTimeSeries(X_train_prep,30,100)\n",
        "valImages = transformGramianTimeStep(X_valid_prep,gcfs,30,100)\n",
        "print(trainImages.shape)\n",
        "print(valImages.shape)"
      ],
      "metadata": {
        "colab": {
          "base_uri": "https://localhost:8080/"
        },
        "id": "1cLueizFcFHa",
        "outputId": "68fa7545-6bef-4ee2-95d8-5cafe85121d9"
      },
      "execution_count": null,
      "outputs": [
        {
          "output_type": "stream",
          "name": "stdout",
          "text": [
            "(600, 5, 30, 30, 22)\n",
            "(108, 5, 30, 30, 22)\n"
          ]
        }
      ]
    },
    {
      "cell_type": "code",
      "source": [
        "l2Strength=0.1\n",
        "l1Strength=0.00\n",
        "kernelSize = 2\n",
        "\n",
        "inp = layers.Input((trainImages.shape[1], trainImages.shape[2], trainImages.shape[3], trainImages.shape[4]))\n",
        "hidden = TimeDistributed(layers.Conv2D(filters=32, \n",
        "                                       kernel_regularizer=L1L2(l1=l1Strength, l2=l2Strength),\n",
        "                                       kernel_size=(kernelSize,kernelSize), padding='same', activation='elu'))(inp)\n",
        "hidden = TimeDistributed(layers.MaxPooling2D(pool_size=(2,2), padding='same'))(hidden)\n",
        "hidden = TimeDistributed(layers.BatchNormalization())(hidden)\n",
        "hidden = TimeDistributed(layers.Dropout(0.5))(hidden)\n",
        "\n",
        "#hidden = TimeDistributed(layers.Conv2D(filters=16, \n",
        "#                                       kernel_regularizer=L1L2(l1=l1Strength, l2=l2Strength),\n",
        "#                                       kernel_size=(kernelSize,kernelSize), padding='same', activation='elu'))(inp)\n",
        "#hidden = TimeDistributed(layers.MaxPooling2D(pool_size=(2,2), padding='same'))(hidden)\n",
        "#hidden = TimeDistributed(layers.BatchNormalization())(hidden)\n",
        "#hidden = TimeDistributed(layers.Dropout(0.5))(hidden)\n",
        "\n",
        "hidden = TimeDistributed(layers.Flatten())(hidden)\n",
        "#hidden = layers.Bidirectional(layers.LSTM(64,return_sequences=True))(hidden)\n",
        "hidden = layers.Bidirectional(layers.LSTM(16,return_sequences=False))(hidden)\n",
        "hidden = layers.Dropout(0.5)(hidden)\n",
        "hidden = layers.Dense(4, kernel_regularizer=L1L2(l1=l1Strength, l2=l2Strength),activation='softmax')(hidden)\n",
        "\n",
        "model = tf.keras.models.Model(inputs=inp, outputs=hidden)\n",
        "model.summary()"
      ],
      "metadata": {
        "id": "jCrlMbZ6cQUd"
      },
      "execution_count": null,
      "outputs": []
    },
    {
      "cell_type": "code",
      "source": [
        "epochs = 20\n",
        "optimizer = keras.optimizers.Adam(lr=0.001,epsilon=1e-8, decay=0.001)\n",
        "\n",
        "model.compile(loss='categorical_crossentropy',\n",
        "                 optimizer=optimizer,\n",
        "                 metrics=['accuracy'])\n",
        "\n",
        "# Training and validating the model\n",
        "results = model.fit(trainImages,\n",
        "             y_trainCat,\n",
        "             batch_size=32,\n",
        "             epochs=epochs,\n",
        "             validation_data=(valImages, y_validCat), verbose=True)"
      ],
      "metadata": {
        "id": "KVehbKyDcYH4"
      },
      "execution_count": null,
      "outputs": []
    },
    {
      "cell_type": "code",
      "source": [
        "import matplotlib.pyplot as plt\n",
        "plt.plot(results.history['accuracy'])\n",
        "plt.plot(results.history['val_accuracy'])\n",
        "plt.title('Basic FC model accuracy trajectory')\n",
        "plt.ylabel('accuracy')\n",
        "plt.xlabel('epoch')\n",
        "plt.legend(['train', 'val'], loc='upper left')\n",
        "plt.show()"
      ],
      "metadata": {
        "colab": {
          "base_uri": "https://localhost:8080/",
          "height": 295
        },
        "id": "yfwM6fGaco1w",
        "outputId": "1e464355-a5a2-4b6d-8bce-9a9f58694e0d"
      },
      "execution_count": null,
      "outputs": [
        {
          "output_type": "display_data",
          "data": {
            "text/plain": [
              "<Figure size 432x288 with 1 Axes>"
            ],
            "image/png": "[encoded data removed]"
          },
          "metadata": {
            "needs_background": "light"
          }
        }
      ]
    },
    {
      "cell_type": "code",
      "source": [
        "X_test_SingleSubject = X_test[np.where(person_test == id)[0]]\n",
        "y_test_SingleSubject = y_test[np.where(person_test == id)[0]]\n",
        "\n",
        "X_test_prep,y_test_prep = data_prep(X_test_SingleSubject,y_test_SingleSubject,1000,2,2,noise=False,willMaxPool=False,\n",
        "                                                           willAverage=False,willSubsample=True)\n",
        "y_testCat = to_categorical(y_test_prep, 4)\n",
        "\n",
        "testImages = transformGramianTimeStep(X_test_prep,gcfs,30,100)\n"
      ],
      "metadata": {
        "colab": {
          "base_uri": "https://localhost:8080/"
        },
        "id": "EMFW2vYHctEG",
        "outputId": "7ca6c934-61a2-4d55-ddb3-d5263491c009"
      },
      "execution_count": null,
      "outputs": [
        {
          "output_type": "stream",
          "name": "stdout",
          "text": [
            "Shape of X after trimming: (50, 22, 1000)\n",
            "Shape of X after subsampling and concatenating: (51, 22, 500)\n"
          ]
        }
      ]
    },
    {
      "cell_type": "code",
      "source": [
        "modelScore = model.evaluate(testImages, y_testCat, verbose=1)\n",
        "print('Test accuracy of the hybrid CNN-LSTM model:',modelScore[1])"
      ],
      "metadata": {
        "colab": {
          "base_uri": "https://localhost:8080/"
        },
        "id": "7fooZsqGdlI0",
        "outputId": "25cf23f7-6124-4234-b850-30ff1f0d253f"
      },
      "execution_count": null,
      "outputs": [
        {
          "output_type": "stream",
          "name": "stdout",
          "text": [
            "2/2 [==============================] - 0s 34ms/step - loss: 1.7426 - accuracy: 0.4200\n",
            "Test accuracy of the hybrid CNN-LSTM model: 0.41999998688697815\n"
          ]
        }
      ]
    },
    {
      "cell_type": "code",
      "source": [
        "#########################################################################################\n",
        "#NOW I AM GOING TO TRAIN ACROSS ALL TEST SUBJECTS AND SEE PERFORMANCE CHANGE ON SUBJECT 1\n",
        "#########################################################################################"
      ],
      "metadata": {
        "id": "OyDae7YXhoeU"
      },
      "execution_count": null,
      "outputs": []
    },
    {
      "cell_type": "code",
      "source": [
        "from google.colab import drive\n",
        "drive.mount('/content/gdrive')\n",
        "%cd /content/gdrive/MyDrive/ECEC247_Project"
      ],
      "metadata": {
        "colab": {
          "base_uri": "https://localhost:8080/"
        },
        "id": "qwT_Y5GZrw2h",
        "outputId": "cf28574c-6a19-4e57-ad56-979e36b449b9"
      },
      "execution_count": null,
      "outputs": [
        {
          "output_type": "stream",
          "name": "stdout",
          "text": [
            "Drive already mounted at /content/gdrive; to attempt to forcibly remount, call drive.mount(\"/content/gdrive\", force_remount=True).\n",
            "/content/gdrive/MyDrive/ECEC247_Project\n"
          ]
        }
      ]
    },
    {
      "cell_type": "code",
      "source": [
        "import numpy as np\n",
        "import pandas as pd\n",
        "import tensorflow as tf\n",
        "from tensorflow import keras \n",
        "from keras import models\n",
        "from keras import layers\n",
        "from tensorflow.keras.utils import to_categorical\n",
        "from tensorflow.keras.models import Sequential\n",
        "from keras.layers import TimeDistributed\n",
        "from tensorflow.keras.regularizers import L1L2\n",
        "!pip install pyts"
      ],
      "metadata": {
        "colab": {
          "base_uri": "https://localhost:8080/"
        },
        "id": "J8Ym07WQr0YH",
        "outputId": "8340ddd3-f1c2-4138-f4a9-1576bde3aa95"
      },
      "execution_count": null,
      "outputs": [
        {
          "output_type": "stream",
          "name": "stdout",
          "text": [
            "Requirement already satisfied: pyts in /usr/local/lib/python3.7/dist-packages (0.12.0)\n",
            "Requirement already satisfied: joblib>=0.12 in /usr/local/lib/python3.7/dist-packages (from pyts) (1.1.0)\n",
            "Requirement already satisfied: scikit-learn>=0.22.1 in /usr/local/lib/python3.7/dist-packages (from pyts) (1.0.2)\n",
            "Requirement already satisfied: numpy>=1.17.5 in /usr/local/lib/python3.7/dist-packages (from pyts) (1.21.5)\n",
            "Requirement already satisfied: numba>=0.48.0 in /usr/local/lib/python3.7/dist-packages (from pyts) (0.51.2)\n",
            "Requirement already satisfied: scipy>=1.3.0 in /usr/local/lib/python3.7/dist-packages (from pyts) (1.4.1)\n",
            "Requirement already satisfied: setuptools in /usr/local/lib/python3.7/dist-packages (from numba>=0.48.0->pyts) (57.4.0)\n",
            "Requirement already satisfied: llvmlite<0.35,>=0.34.0.dev0 in /usr/local/lib/python3.7/dist-packages (from numba>=0.48.0->pyts) (0.34.0)\n",
            "Requirement already satisfied: threadpoolctl>=2.0.0 in /usr/local/lib/python3.7/dist-packages (from scikit-learn>=0.22.1->pyts) (3.1.0)\n"
          ]
        }
      ]
    },
    {
      "cell_type": "code",
      "source": [
        "from pyts.image import GramianAngularField"
      ],
      "metadata": {
        "id": "FKl4RJp4r-Fv"
      },
      "execution_count": null,
      "outputs": []
    },
    {
      "cell_type": "code",
      "source": [
        "X_test = np.load(\"X_test.npy\")\n",
        "y_test = np.load(\"y_test.npy\")\n",
        "person_train_valid = np.load(\"person_train_valid.npy\")\n",
        "X_train_valid = np.load(\"X_train_valid.npy\")\n",
        "y_train_valid = np.load(\"y_train_valid.npy\")\n",
        "person_test = np.load(\"person_test.npy\")\n",
        "\n",
        "## Printing the shapes of the numpy arrays\n",
        "\n",
        "print ('Training/Valid data shape: {}'.format(X_train_valid.shape))\n",
        "print ('Test data shape: {}'.format(X_test.shape))\n",
        "print ('Training/Valid target shape: {}'.format(y_train_valid.shape))\n",
        "print ('Test target shape: {}'.format(y_test.shape))\n",
        "print ('Person train/valid shape: {}'.format(person_train_valid.shape))\n",
        "print ('Person test shape: {}'.format(person_test.shape))\n",
        "y_train_valid -= 769\n",
        "y_test -= 769"
      ],
      "metadata": {
        "colab": {
          "base_uri": "https://localhost:8080/"
        },
        "id": "9vaRrYmrq57c",
        "outputId": "2e551fb0-f1fb-4ba9-879f-908dcec65915"
      },
      "execution_count": null,
      "outputs": [
        {
          "output_type": "stream",
          "name": "stdout",
          "text": [
            "Training/Valid data shape: (2115, 22, 1000)\n",
            "Test data shape: (443, 22, 1000)\n",
            "Training/Valid target shape: (2115,)\n",
            "Test target shape: (443,)\n",
            "Person train/valid shape: (2115, 1)\n",
            "Person test shape: (443, 1)\n"
          ]
        }
      ]
    },
    {
      "cell_type": "code",
      "source": [
        "ind_valid = np.random.choice(X_train_valid.shape[0], 500, replace=False)\n",
        "ind_train = np.array(list(set(range(X_train_valid.shape[0])).difference(set(ind_valid))))\n",
        "\n",
        "# Creating the training and validation sets using the generated indices\n",
        "(x_train, x_valid) = X_train_valid[ind_train], X_train_valid[ind_valid] \n",
        "(y_train, y_valid) = y_train_valid[ind_train], y_train_valid[ind_valid]"
      ],
      "metadata": {
        "id": "lAQ3RqGyh5Rm"
      },
      "execution_count": null,
      "outputs": []
    },
    {
      "cell_type": "code",
      "source": [
        "def data_prep(X,y,trim,sub_sample,average,noise,willMaxPool,willAverage,willSubsample):\n",
        "    \n",
        "    total_X = np.zeros((1, X.shape[1], int(X.shape[2]/sub_sample)))\n",
        "    total_y = np.zeros((1))\n",
        "    \n",
        "    # Trimming the data (sample,22,1000) -> (sample,22,500)\n",
        "    X = X[:,:,0:trim]\n",
        "    print('Shape of X after trimming:',X.shape)\n",
        "    \n",
        "    if willMaxPool:\n",
        "        # Maxpooling the data (sample,22,1000) -> (sample,22,500/sub_sample)\n",
        "        X_max = np.max(X.reshape(X.shape[0], X.shape[1], -1, sub_sample), axis=3)\n",
        "    \n",
        "    \n",
        "        total_X = np.vstack((total_X,X_max))\n",
        "        total_y = np.hstack((total_y, y))\n",
        "        print('Shape of X after maxpooling:',total_X.shape)\n",
        "    \n",
        "    \n",
        "    # Averaging + noise \n",
        "    if willAverage:\n",
        "        X_average = np.mean(X.reshape(X.shape[0], X.shape[1], -1, average),axis=3)\n",
        "        if noise:\n",
        "            X_average = X_average + np.random.normal(0.0, 0.5, X_average.shape)\n",
        "    \n",
        "        total_X = np.vstack((total_X, X_average))\n",
        "        total_y = np.hstack((total_y, y))\n",
        "        print('Shape of X after averaging+noise and concatenating:',total_X.shape)\n",
        "    \n",
        "    # Subsampling\n",
        "    if willSubsample:\n",
        "        for i in range(sub_sample):\n",
        "            \n",
        "            X_subsample = X[:, :, i::sub_sample] + \\\n",
        "                                (np.random.normal(0.0, 0.5, X[:, :,i::sub_sample].shape) if noise else 0.0)\n",
        "                \n",
        "        total_X = np.vstack((total_X, X_subsample))\n",
        "        total_y = np.hstack((total_y, y))\n",
        "            \n",
        "        \n",
        "        print('Shape of X after subsampling and concatenating:',total_X.shape)\n",
        "    \n",
        "    total_X=total_X[1:,:,:]\n",
        "    total_y=total_y[1:]\n",
        "    return total_X,total_y\n",
        "def fitTransformGramianTimeSeries(dataset,imgSize,timeStep):\n",
        "    gcfs = {}\n",
        "    amountOfTime = dataset.shape[2]\n",
        "    noOfImages = int(amountOfTime / timeStep)\n",
        "    amountOfFeatures = dataset.shape[1]\n",
        "    amountOfSamples = dataset.shape[0]\n",
        "    imageOut = np.empty((amountOfSamples,noOfImages,imgSize,imgSize, amountOfFeatures))\n",
        "    for k in range(amountOfFeatures):\n",
        "        feature = dataset[:,k,:]\n",
        "        gcf = GramianAngularField(image_size=imgSize,method='d')\n",
        "        gcf = gcf.fit(feature)\n",
        "        string = \"gcf\"+str(k)\n",
        "        gcfs[string] = gcf\n",
        "        seperated = np.array_split(feature, noOfImages, axis=1)\n",
        "\n",
        "        for ind in range(len(seperated)):\n",
        "            section = seperated[ind]\n",
        "            newImage = gcf.transform(section)\n",
        "            imageOut[:,ind,:,:,k] = newImage\n",
        "\n",
        "    return gcfs,imageOut\n",
        "\n",
        "def transformGramianTimeStep(dataset,gcfs,imgSize,timeStep):\n",
        "    amountOfTime = dataset.shape[2]\n",
        "    noOfImages = int(amountOfTime / timeStep)\n",
        "    amountOfFeatures = dataset.shape[1]\n",
        "    amountOfSamples = dataset.shape[0]\n",
        "    imageOut = np.empty((amountOfSamples,noOfImages,imgSize,imgSize, amountOfFeatures))\n",
        "    for k in range(amountOfFeatures):\n",
        "        feature = dataset[:,k,:]\n",
        "        seperated = np.array_split(feature, noOfImages, axis=1)\n",
        "        string = \"gcf\"+str(k)\n",
        "        gcf = gcfs[string]\n",
        "        for ind in range(len(seperated)):\n",
        "            section = seperated[ind]\n",
        "            newImage = gcf.transform(section)\n",
        "            imageOut[:,ind,:,:,k] = newImage\n",
        "    return imageOut"
      ],
      "metadata": {
        "id": "K5x-ypy7sFWh"
      },
      "execution_count": null,
      "outputs": []
    },
    {
      "cell_type": "code",
      "source": [
        "X_train_prep,y_train_prep = data_prep(x_train,y_train,1000,2,2,\n",
        "                                                           noise=True,willMaxPool=True,\n",
        "                                                           willAverage=True, willSubsample=True)\n",
        "X_valid_prep,y_valid_prep = data_prep(x_valid,y_valid,1000,2,2,\n",
        "                                                           noise=True,willMaxPool=True,\n",
        "                                                           willAverage=True,willSubsample=True)\n",
        "\n",
        "y_trainCat = to_categorical(y_train_prep, 4)\n",
        "y_validCat = to_categorical(y_valid_prep, 4)"
      ],
      "metadata": {
        "colab": {
          "base_uri": "https://localhost:8080/"
        },
        "id": "Pt90o4meiRfw",
        "outputId": "d6ffa258-9fb0-425f-e0db-65612572fa79"
      },
      "execution_count": null,
      "outputs": [
        {
          "output_type": "stream",
          "name": "stdout",
          "text": [
            "Shape of X after trimming: (1615, 22, 1000)\n",
            "Shape of X after maxpooling: (1616, 22, 500)\n",
            "Shape of X after averaging+noise and concatenating: (3231, 22, 500)\n",
            "Shape of X after subsampling and concatenating: (4846, 22, 500)\n",
            "Shape of X after trimming: (500, 22, 1000)\n",
            "Shape of X after maxpooling: (501, 22, 500)\n",
            "Shape of X after averaging+noise and concatenating: (1001, 22, 500)\n",
            "Shape of X after subsampling and concatenating: (1501, 22, 500)\n"
          ]
        }
      ]
    },
    {
      "cell_type": "code",
      "source": [
        "gcfs,trainImages = fitTransformGramianTimeSeries(X_train_prep,30,100)\n",
        "valImages = transformGramianTimeStep(X_valid_prep,gcfs,30,100)\n",
        "print(trainImages.shape)\n",
        "print(valImages.shape)"
      ],
      "metadata": {
        "colab": {
          "base_uri": "https://localhost:8080/"
        },
        "id": "NzfU1DzLiU1G",
        "outputId": "71d24e4f-420d-4432-fd82-7f066265630a"
      },
      "execution_count": null,
      "outputs": [
        {
          "output_type": "stream",
          "name": "stdout",
          "text": [
            "(4845, 5, 30, 30, 22)\n",
            "(1500, 5, 30, 30, 22)\n"
          ]
        }
      ]
    },
    {
      "cell_type": "code",
      "source": [
        "l2Strength=0.1\n",
        "l1Strength=0.00\n",
        "kernelSize = 2\n",
        "\n",
        "inp = layers.Input((trainImages.shape[1], trainImages.shape[2], trainImages.shape[3], trainImages.shape[4]))\n",
        "hidden = TimeDistributed(layers.Conv2D(filters=8, \n",
        "                                       kernel_regularizer=L1L2(l1=l1Strength, l2=l2Strength),\n",
        "                                       kernel_size=(kernelSize,kernelSize), padding='same', activation='elu'))(inp)\n",
        "hidden = TimeDistributed(layers.MaxPooling2D(pool_size=(2,2), padding='same'))(hidden)\n",
        "hidden = TimeDistributed(layers.BatchNormalization())(hidden)\n",
        "hidden = TimeDistributed(layers.Dropout(0.5))(hidden)\n",
        "\n",
        "hidden = TimeDistributed(layers.Conv2D(filters=10, \n",
        "                                       kernel_regularizer=L1L2(l1=l1Strength, l2=l2Strength),\n",
        "                                       kernel_size=(kernelSize,kernelSize), padding='same', activation='elu'))(inp)\n",
        "hidden = TimeDistributed(layers.MaxPooling2D(pool_size=(2,2), padding='same'))(hidden)\n",
        "hidden = TimeDistributed(layers.BatchNormalization())(hidden)\n",
        "hidden = TimeDistributed(layers.Dropout(0.5))(hidden)\n",
        "\n",
        "hidden = TimeDistributed(layers.Flatten())(hidden)\n",
        "#hidden = layers.Bidirectional(layers.LSTM(64,return_sequences=True))(hidden)\n",
        "hidden = layers.Bidirectional(layers.LSTM(32,return_sequences=False))(hidden)\n",
        "hidden = layers.Dropout(0.5)(hidden)\n",
        "hidden = layers.Dense(4, kernel_regularizer=L1L2(l1=l1Strength, l2=l2Strength),activation='softmax')(hidden)\n",
        "\n",
        "model = tf.keras.models.Model(inputs=inp, outputs=hidden)\n",
        "model.summary()"
      ],
      "metadata": {
        "colab": {
          "base_uri": "https://localhost:8080/"
        },
        "id": "fBBqfFpQiZSY",
        "outputId": "edbc9a5e-4326-4a84-9a62-3265abd43395"
      },
      "execution_count": null,
      "outputs": [
        {
          "output_type": "stream",
          "name": "stdout",
          "text": [
            "Model: \"model\"\n",
            "_________________________________________________________________\n",
            " Layer (type)                Output Shape              Param #   \n",
            "=================================================================\n",
            " input_1 (InputLayer)        [(None, 5, 30, 30, 22)]   0         \n",
            "                                                                 \n",
            " time_distributed_4 (TimeDis  (None, 5, 30, 30, 10)    890       \n",
            " tributed)                                                       \n",
            "                                                                 \n",
            " time_distributed_5 (TimeDis  (None, 5, 15, 15, 10)    0         \n",
            " tributed)                                                       \n",
            "                                                                 \n",
            " time_distributed_6 (TimeDis  (None, 5, 15, 15, 10)    40        \n",
            " tributed)                                                       \n",
            "                                                                 \n",
            " time_distributed_7 (TimeDis  (None, 5, 15, 15, 10)    0         \n",
            " tributed)                                                       \n",
            "                                                                 \n",
            " time_distributed_8 (TimeDis  (None, 5, 2250)          0         \n",
            " tributed)                                                       \n",
            "                                                                 \n",
            " bidirectional (Bidirectiona  (None, 64)               584448    \n",
            " l)                                                              \n",
            "                                                                 \n",
            " dropout_2 (Dropout)         (None, 64)                0         \n",
            "                                                                 \n",
            " dense (Dense)               (None, 4)                 260       \n",
            "                                                                 \n",
            "=================================================================\n",
            "Total params: 585,638\n",
            "Trainable params: 585,618\n",
            "Non-trainable params: 20\n",
            "_________________________________________________________________\n"
          ]
        }
      ]
    },
    {
      "cell_type": "code",
      "source": [
        "epochs = 30\n",
        "optimizer = keras.optimizers.Adam(lr=0.001,epsilon=1e-8, decay=0.001)\n",
        "\n",
        "model.compile(loss='categorical_crossentropy',\n",
        "                 optimizer=optimizer,\n",
        "                 metrics=['accuracy'])\n",
        "\n",
        "# Training and validating the model\n",
        "results = model.fit(trainImages,\n",
        "             y_trainCat,\n",
        "             batch_size=32,\n",
        "             epochs=epochs,\n",
        "             validation_data=(valImages, y_validCat), verbose=True)"
      ],
      "metadata": {
        "colab": {
          "base_uri": "https://localhost:8080/"
        },
        "id": "4sJ1MGUkihL3",
        "outputId": "5e936de7-52b7-4f52-fe77-113e7db763ab"
      },
      "execution_count": null,
      "outputs": [
        {
          "output_type": "stream",
          "name": "stderr",
          "text": [
            "/usr/local/lib/python3.7/dist-packages/keras/optimizer_v2/adam.py:105: UserWarning: The `lr` argument is deprecated, use `learning_rate` instead.\n",
            "  super(Adam, self).__init__(name, **kwargs)\n"
          ]
        },
        {
          "output_type": "stream",
          "name": "stdout",
          "text": [
            "Epoch 1/30\n",
            "152/152 [==============================] - 20s 44ms/step - loss: 2.5634 - accuracy: 0.3197 - val_loss: 1.9894 - val_accuracy: 0.2660\n",
            "Epoch 2/30\n",
            "152/152 [==============================] - 4s 27ms/step - loss: 1.6303 - accuracy: 0.4712 - val_loss: 1.6356 - val_accuracy: 0.2893\n",
            "Epoch 3/30\n",
            "152/152 [==============================] - 4s 26ms/step - loss: 1.3741 - accuracy: 0.5564 - val_loss: 1.5235 - val_accuracy: 0.3160\n",
            "Epoch 4/30\n",
            "152/152 [==============================] - 4s 26ms/step - loss: 1.2491 - accuracy: 0.6266 - val_loss: 1.4868 - val_accuracy: 0.3613\n",
            "Epoch 5/30\n",
            "152/152 [==============================] - 4s 26ms/step - loss: 1.1615 - accuracy: 0.6873 - val_loss: 1.4988 - val_accuracy: 0.3427\n",
            "Epoch 6/30\n",
            "152/152 [==============================] - 4s 26ms/step - loss: 1.0869 - accuracy: 0.7286 - val_loss: 1.4924 - val_accuracy: 0.3513\n",
            "Epoch 7/30\n",
            "152/152 [==============================] - 4s 26ms/step - loss: 1.0185 - accuracy: 0.7730 - val_loss: 1.5038 - val_accuracy: 0.3687\n",
            "Epoch 8/30\n",
            "152/152 [==============================] - 4s 26ms/step - loss: 0.9682 - accuracy: 0.8157 - val_loss: 1.5068 - val_accuracy: 0.3713\n",
            "Epoch 9/30\n",
            "152/152 [==============================] - 4s 26ms/step - loss: 0.9148 - accuracy: 0.8386 - val_loss: 1.5219 - val_accuracy: 0.3827\n",
            "Epoch 10/30\n",
            "152/152 [==============================] - 4s 26ms/step - loss: 0.8747 - accuracy: 0.8592 - val_loss: 1.5376 - val_accuracy: 0.3787\n",
            "Epoch 11/30\n",
            "152/152 [==============================] - 4s 26ms/step - loss: 0.8330 - accuracy: 0.8819 - val_loss: 1.5318 - val_accuracy: 0.3807\n",
            "Epoch 12/30\n",
            "152/152 [==============================] - 4s 26ms/step - loss: 0.8005 - accuracy: 0.8980 - val_loss: 1.5415 - val_accuracy: 0.3613\n",
            "Epoch 13/30\n",
            "152/152 [==============================] - 4s 26ms/step - loss: 0.7774 - accuracy: 0.9082 - val_loss: 1.5494 - val_accuracy: 0.3820\n",
            "Epoch 14/30\n",
            "152/152 [==============================] - 4s 26ms/step - loss: 0.7549 - accuracy: 0.9224 - val_loss: 1.5605 - val_accuracy: 0.3727\n",
            "Epoch 15/30\n",
            "152/152 [==============================] - 4s 28ms/step - loss: 0.7331 - accuracy: 0.9245 - val_loss: 1.5468 - val_accuracy: 0.3633\n",
            "Epoch 16/30\n",
            "152/152 [==============================] - 4s 29ms/step - loss: 0.7103 - accuracy: 0.9325 - val_loss: 1.5518 - val_accuracy: 0.3800\n",
            "Epoch 17/30\n",
            "152/152 [==============================] - 4s 27ms/step - loss: 0.6905 - accuracy: 0.9441 - val_loss: 1.5420 - val_accuracy: 0.3840\n",
            "Epoch 18/30\n",
            "152/152 [==============================] - 4s 26ms/step - loss: 0.6769 - accuracy: 0.9490 - val_loss: 1.5346 - val_accuracy: 0.3813\n",
            "Epoch 19/30\n",
            "152/152 [==============================] - 4s 26ms/step - loss: 0.6631 - accuracy: 0.9527 - val_loss: 1.5268 - val_accuracy: 0.4093\n",
            "Epoch 20/30\n",
            "152/152 [==============================] - 4s 26ms/step - loss: 0.6467 - accuracy: 0.9639 - val_loss: 1.5350 - val_accuracy: 0.3907\n",
            "Epoch 21/30\n",
            "152/152 [==============================] - 4s 26ms/step - loss: 0.6328 - accuracy: 0.9593 - val_loss: 1.5440 - val_accuracy: 0.3813\n",
            "Epoch 22/30\n",
            "152/152 [==============================] - 4s 26ms/step - loss: 0.6250 - accuracy: 0.9639 - val_loss: 1.5343 - val_accuracy: 0.4127\n",
            "Epoch 23/30\n",
            "152/152 [==============================] - 4s 27ms/step - loss: 0.6150 - accuracy: 0.9688 - val_loss: 1.5202 - val_accuracy: 0.3960\n",
            "Epoch 24/30\n",
            "152/152 [==============================] - 4s 27ms/step - loss: 0.6059 - accuracy: 0.9684 - val_loss: 1.5228 - val_accuracy: 0.3927\n",
            "Epoch 25/30\n",
            "152/152 [==============================] - 4s 26ms/step - loss: 0.5943 - accuracy: 0.9719 - val_loss: 1.5235 - val_accuracy: 0.4127\n",
            "Epoch 26/30\n",
            "152/152 [==============================] - 4s 26ms/step - loss: 0.5889 - accuracy: 0.9736 - val_loss: 1.5245 - val_accuracy: 0.4027\n",
            "Epoch 27/30\n",
            "152/152 [==============================] - 4s 26ms/step - loss: 0.5746 - accuracy: 0.9763 - val_loss: 1.5234 - val_accuracy: 0.3953\n",
            "Epoch 28/30\n",
            "152/152 [==============================] - 4s 26ms/step - loss: 0.5685 - accuracy: 0.9761 - val_loss: 1.5209 - val_accuracy: 0.4153\n",
            "Epoch 29/30\n",
            "152/152 [==============================] - 4s 26ms/step - loss: 0.5680 - accuracy: 0.9728 - val_loss: 1.5304 - val_accuracy: 0.4200\n",
            "Epoch 30/30\n",
            "152/152 [==============================] - 4s 26ms/step - loss: 0.5522 - accuracy: 0.9794 - val_loss: 1.5179 - val_accuracy: 0.4133\n"
          ]
        }
      ]
    },
    {
      "cell_type": "code",
      "source": [
        "import matplotlib.pyplot as plt\n",
        "plt.plot(results.history['accuracy'])\n",
        "plt.plot(results.history['val_accuracy'])\n",
        "plt.title('Basic FC model accuracy trajectory')\n",
        "plt.ylabel('accuracy')\n",
        "plt.xlabel('epoch')\n",
        "plt.legend(['train', 'val'], loc='upper left')\n",
        "plt.show()"
      ],
      "metadata": {
        "colab": {
          "base_uri": "https://localhost:8080/",
          "height": 295
        },
        "id": "TymvXpKpvyCG",
        "outputId": "7a7ba456-71eb-4d3b-e67d-465698ffe9d9"
      },
      "execution_count": null,
      "outputs": [
        {
          "output_type": "display_data",
          "data": {
            "text/plain": [
              "<Figure size 432x288 with 1 Axes>"
            ],
            "image/png": "[encoded data removed]"
          },
          "metadata": {
            "needs_background": "light"
          }
        }
      ]
    },
    {
      "cell_type": "code",
      "source": [
        "id=1\n",
        "X_test_SingleSubject = X_test[np.where(person_test == id)[0]]\n",
        "y_test_SingleSubject = y_test[np.where(person_test == id)[0]]\n",
        "\n",
        "X_test_prep,y_test_prep = data_prep(X_test_SingleSubject,y_test_SingleSubject,1000,2,2,noise=False,willMaxPool=False,\n",
        "                                                           willAverage=True,willSubsample=False)\n",
        "y_testCat = to_categorical(y_test_prep, 4)\n",
        "\n",
        "testImages = transformGramianTimeStep(X_test_prep,gcfs,30,100)"
      ],
      "metadata": {
        "colab": {
          "base_uri": "https://localhost:8080/"
        },
        "id": "7-BW6zDkjhgx",
        "outputId": "ce76f3d0-54bb-4e19-84ce-03a58080d1af"
      },
      "execution_count": null,
      "outputs": [
        {
          "output_type": "stream",
          "name": "stdout",
          "text": [
            "Shape of X after trimming: (50, 22, 1000)\n",
            "Shape of X after averaging+noise and concatenating: (51, 22, 500)\n"
          ]
        }
      ]
    },
    {
      "cell_type": "code",
      "source": [
        "modelScore = model.evaluate(testImages, y_testCat, verbose=1)\n",
        "print('Test accuracy of the hybrid CNN-LSTM model:',modelScore[1])"
      ],
      "metadata": {
        "colab": {
          "base_uri": "https://localhost:8080/"
        },
        "id": "9a9_dMxgjj_9",
        "outputId": "b3869976-bc09-43c7-ff5f-517b5df1f3df"
      },
      "execution_count": null,
      "outputs": [
        {
          "output_type": "stream",
          "name": "stdout",
          "text": [
            "2/2 [==============================] - 0s 34ms/step - loss: 1.5326 - accuracy: 0.3800\n",
            "Test accuracy of the hybrid CNN-LSTM model: 0.3799999952316284\n"
          ]
        }
      ]
    }
  ]
}